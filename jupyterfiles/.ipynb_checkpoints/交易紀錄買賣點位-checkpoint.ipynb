{
 "cells": [
  {
   "cell_type": "code",
   "execution_count": 3,
   "id": "8b505f9b",
   "metadata": {},
   "outputs": [
    {
     "name": "stdout",
     "output_type": "stream",
     "text": [
      "Requirement already satisfied: shioaji in /opt/homebrew/anaconda3/lib/python3.11/site-packages (1.2.3)\n",
      "Requirement already satisfied: base58 in /opt/homebrew/anaconda3/lib/python3.11/site-packages (from shioaji) (2.1.1)\n",
      "Requirement already satisfied: importlib-metadata in /opt/homebrew/anaconda3/lib/python3.11/site-packages (from shioaji) (6.0.0)\n",
      "Requirement already satisfied: pydantic in /opt/homebrew/anaconda3/lib/python3.11/site-packages (from shioaji) (2.6.4)\n",
      "Requirement already satisfied: pynacl>=1.3.0 in /opt/homebrew/anaconda3/lib/python3.11/site-packages (from shioaji) (1.5.0)\n",
      "Requirement already satisfied: pyrsca in /opt/homebrew/anaconda3/lib/python3.11/site-packages (from shioaji) (0.1.1)\n",
      "Requirement already satisfied: pysolace==0.9.40 in /opt/homebrew/anaconda3/lib/python3.11/site-packages (from shioaji) (0.9.40)\n",
      "Requirement already satisfied: requests in /opt/homebrew/anaconda3/lib/python3.11/site-packages (from shioaji) (2.31.0)\n",
      "Requirement already satisfied: sentry-sdk==1.5.12 in /opt/homebrew/anaconda3/lib/python3.11/site-packages (from shioaji) (1.5.12)\n",
      "Requirement already satisfied: typing-extensions in /opt/homebrew/anaconda3/lib/python3.11/site-packages (from shioaji) (4.7.1)\n",
      "Requirement already satisfied: xxhash in /opt/homebrew/anaconda3/lib/python3.11/site-packages (from shioaji) (2.0.2)\n",
      "Requirement already satisfied: loguru==0.6.0 in /opt/homebrew/anaconda3/lib/python3.11/site-packages (from shioaji) (0.6.0)\n",
      "Requirement already satisfied: filelock==3.4.1 in /opt/homebrew/anaconda3/lib/python3.11/site-packages (from shioaji) (3.4.1)\n",
      "Requirement already satisfied: orjson in /opt/homebrew/anaconda3/lib/python3.11/site-packages (from pysolace==0.9.40->shioaji) (3.9.15)\n",
      "Requirement already satisfied: msgpack in /opt/homebrew/anaconda3/lib/python3.11/site-packages (from pysolace==0.9.40->shioaji) (1.0.3)\n",
      "Requirement already satisfied: urllib3>=1.10.0 in /opt/homebrew/anaconda3/lib/python3.11/site-packages (from sentry-sdk==1.5.12->shioaji) (1.26.16)\n",
      "Requirement already satisfied: certifi in /opt/homebrew/anaconda3/lib/python3.11/site-packages (from sentry-sdk==1.5.12->shioaji) (2023.7.22)\n",
      "Requirement already satisfied: cffi>=1.4.1 in /opt/homebrew/anaconda3/lib/python3.11/site-packages (from pynacl>=1.3.0->shioaji) (1.15.1)\n",
      "Requirement already satisfied: zipp>=0.5 in /opt/homebrew/anaconda3/lib/python3.11/site-packages (from importlib-metadata->shioaji) (3.11.0)\n",
      "Requirement already satisfied: annotated-types>=0.4.0 in /opt/homebrew/anaconda3/lib/python3.11/site-packages (from pydantic->shioaji) (0.6.0)\n",
      "Requirement already satisfied: pydantic-core==2.16.3 in /opt/homebrew/anaconda3/lib/python3.11/site-packages (from pydantic->shioaji) (2.16.3)\n",
      "Requirement already satisfied: charset-normalizer<4,>=2 in /opt/homebrew/anaconda3/lib/python3.11/site-packages (from requests->shioaji) (2.0.4)\n",
      "Requirement already satisfied: idna<4,>=2.5 in /opt/homebrew/anaconda3/lib/python3.11/site-packages (from requests->shioaji) (3.4)\n",
      "Requirement already satisfied: pycparser in /opt/homebrew/anaconda3/lib/python3.11/site-packages (from cffi>=1.4.1->pynacl>=1.3.0->shioaji) (2.21)\n"
     ]
    },
    {
     "ename": "ModuleNotFoundError",
     "evalue": "No module named 'Stock'",
     "output_type": "error",
     "traceback": [
      "\u001b[0;31m---------------------------------------------------------------------------\u001b[0m",
      "\u001b[0;31mModuleNotFoundError\u001b[0m                       Traceback (most recent call last)",
      "Cell \u001b[0;32mIn[3], line 5\u001b[0m\n\u001b[1;32m      3\u001b[0m \u001b[38;5;28;01mimport\u001b[39;00m \u001b[38;5;21;01mpandas\u001b[39;00m \u001b[38;5;28;01mas\u001b[39;00m \u001b[38;5;21;01mpd\u001b[39;00m\n\u001b[1;32m      4\u001b[0m \u001b[38;5;28;01mimport\u001b[39;00m \u001b[38;5;21;01mrequests\u001b[39;00m\n\u001b[0;32m----> 5\u001b[0m \u001b[38;5;28;01mimport\u001b[39;00m \u001b[38;5;21;01mshioaji\u001b[39;00m \u001b[38;5;28;01mas\u001b[39;00m \u001b[38;5;21;01msj\u001b[39;00m\u001b[38;5;241m,\u001b[39m \u001b[38;5;21;01mStock\u001b[39;00m\n\u001b[1;32m      6\u001b[0m \u001b[38;5;28;01mimport\u001b[39;00m \u001b[38;5;21;01mdatetime\u001b[39;00m\n\u001b[1;32m      7\u001b[0m \u001b[38;5;28;01mimport\u001b[39;00m \u001b[38;5;21;01mmatplotlib\u001b[39;00m\u001b[38;5;21;01m.\u001b[39;00m\u001b[38;5;21;01mpyplot\u001b[39;00m \u001b[38;5;28;01mas\u001b[39;00m \u001b[38;5;21;01mplt\u001b[39;00m\n",
      "\u001b[0;31mModuleNotFoundError\u001b[0m: No module named 'Stock'"
     ]
    }
   ],
   "source": [
    "!pip install shioaji\n",
    "import numpy as np\n",
    "import pandas as pd\n",
    "import requests\n",
    "import shioaji as sj\n",
    "import datetime\n",
    "import matplotlib.pyplot as plt\n",
    "import matplotlib.animation as animation\n",
    "\n",
    "# 建立API物件，simulation=True是代表測試帳號\n",
    "api = sj.Shioaji(simulation=True)\n",
    "\n",
    "#登入你的key\n",
    "accounts = api.login(\"DP6ayTE7r7zsyWfad4wfu5ZMDdQ4NA6wk1vPESXVihyG\",\"65bqwy975DsaDHamDxje8M3yUyqKCEuNRA9szAkrt996\")\n",
    "\n"
   ]
  },
  {
   "cell_type": "code",
   "execution_count": 2,
   "id": "7120a2d1",
   "metadata": {},
   "outputs": [
    {
     "ename": "NameError",
     "evalue": "name 'Stock' is not defined",
     "output_type": "error",
     "traceback": [
      "\u001b[0;31m---------------------------------------------------------------------------\u001b[0m",
      "\u001b[0;31mNameError\u001b[0m                                 Traceback (most recent call last)",
      "Cell \u001b[0;32mIn[2], line 5\u001b[0m\n\u001b[1;32m      2\u001b[0m stock_code \u001b[38;5;241m=\u001b[39m \u001b[38;5;124m\"\u001b[39m\u001b[38;5;124m2330\u001b[39m\u001b[38;5;124m\"\u001b[39m\n\u001b[1;32m      4\u001b[0m \u001b[38;5;66;03m# 建立台積電股票物件\u001b[39;00m\n\u001b[0;32m----> 5\u001b[0m stock \u001b[38;5;241m=\u001b[39m Stock(stock_code)\n\u001b[1;32m      7\u001b[0m \u001b[38;5;66;03m# 取得台積電歷史 K 線資料\u001b[39;00m\n\u001b[1;32m      8\u001b[0m kline \u001b[38;5;241m=\u001b[39m stock\u001b[38;5;241m.\u001b[39mfetch_kline(start\u001b[38;5;241m=\u001b[39m\u001b[38;5;124m\"\u001b[39m\u001b[38;5;124m2023-10-01\u001b[39m\u001b[38;5;124m\"\u001b[39m, end\u001b[38;5;241m=\u001b[39m\u001b[38;5;124m\"\u001b[39m\u001b[38;5;124m2024-04-03\u001b[39m\u001b[38;5;124m\"\u001b[39m)\n",
      "\u001b[0;31mNameError\u001b[0m: name 'Stock' is not defined"
     ]
    }
   ],
   "source": [
    "# 取得台積電股票代碼\n",
    "stock_code = \"2330\"\n",
    "\n",
    "# 建立台積電股票物件\n",
    "stock = Stock(stock_code)\n",
    "\n",
    "# 取得台積電歷史 K 線資料\n",
    "kline = stock.fetch_kline(start=\"2023-10-01\", end=\"2024-04-03\")\n",
    "\n",
    "# 處理 K 線資料\n",
    "dates = [data.datetime for data in kline]\n",
    "opens = [data.open for data in kline]\n",
    "highs = [data.high for data in kline]\n",
    "lows = [data.low for data in kline]\n",
    "closes = [data.close for data in kline]\n",
    "\n",
    "# 輸入買入價格和買入日期\n",
    "buy_date = input(\"2024-01-19\")\n",
    "buy_price = float(input(\"626\"))\n",
    "\n",
    "# 找到買入日期在資料中的索引\n",
    "buy_index = dates.index(buy_date)\n",
    "\n",
    "# 繪製 K 線圖\n",
    "import mplfinance as mpf\n",
    "\n",
    "ohlc = zip(dates, opens, highs, lows, closes)\n",
    "mpf.plot(ohlc, type='candle', style='charles', volume=True)\n",
    "\n",
    "# 計算移動平均線\n",
    "import numpy as np\n",
    "\n",
    "ma5 = np.convolve(closes, np.ones(5)/5, mode='valid')\n",
    "ma10 = np.convolve(closes, np.ones(10)/10, mode='valid')\n",
    "ma20 = np.convolve(closes, np.ones(20)/20, mode='valid')\n",
    "ma60 = np.convolve(closes, np.ones(60)/60, mode='valid')\n",
    "\n",
    "# 繪製移動平均線\n",
    "plt.plot(dates[4:], ma5, label='MA5')\n",
    "plt.plot(dates[9:], ma10, label='MA10')\n",
    "plt.plot(dates[19:], ma20, label='MA20')\n",
    "plt.plot(dates[59:], ma60, label='MA60')\n",
    "\n",
    "# 標記買入價格\n",
    "plt.scatter(dates[buy_index], buy_price, color='r', marker='o', label=f'Buy Price: {buy_price} ({buy_date})')\n",
    "plt.legend()\n",
    "plt.show()\n"
   ]
  },
  {
   "cell_type": "code",
   "execution_count": null,
   "id": "50256777",
   "metadata": {},
   "outputs": [],
   "source": []
  }
 ],
 "metadata": {
  "kernelspec": {
   "display_name": "Python 3 (ipykernel)",
   "language": "python",
   "name": "python3"
  },
  "language_info": {
   "codemirror_mode": {
    "name": "ipython",
    "version": 3
   },
   "file_extension": ".py",
   "mimetype": "text/x-python",
   "name": "python",
   "nbconvert_exporter": "python",
   "pygments_lexer": "ipython3",
   "version": "3.11.4"
  }
 },
 "nbformat": 4,
 "nbformat_minor": 5
}
