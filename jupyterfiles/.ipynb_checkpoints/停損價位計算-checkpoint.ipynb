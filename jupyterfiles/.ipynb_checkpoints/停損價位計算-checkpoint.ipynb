{
 "cells": [
  {
   "cell_type": "code",
   "execution_count": 22,
   "id": "ec2e5cd2",
   "metadata": {},
   "outputs": [
    {
     "name": "stdout",
     "output_type": "stream",
     "text": [
      "Requirement already satisfied: shioaji in /opt/homebrew/anaconda3/lib/python3.11/site-packages (1.2.3)\n",
      "Requirement already satisfied: base58 in /opt/homebrew/anaconda3/lib/python3.11/site-packages (from shioaji) (2.1.1)\n",
      "Requirement already satisfied: importlib-metadata in /opt/homebrew/anaconda3/lib/python3.11/site-packages (from shioaji) (6.0.0)\n",
      "Requirement already satisfied: pydantic in /opt/homebrew/anaconda3/lib/python3.11/site-packages (from shioaji) (2.6.4)\n",
      "Requirement already satisfied: pynacl>=1.3.0 in /opt/homebrew/anaconda3/lib/python3.11/site-packages (from shioaji) (1.5.0)\n",
      "Requirement already satisfied: pyrsca in /opt/homebrew/anaconda3/lib/python3.11/site-packages (from shioaji) (0.1.1)\n",
      "Requirement already satisfied: pysolace==0.9.40 in /opt/homebrew/anaconda3/lib/python3.11/site-packages (from shioaji) (0.9.40)\n",
      "Requirement already satisfied: requests in /opt/homebrew/anaconda3/lib/python3.11/site-packages (from shioaji) (2.31.0)\n",
      "Requirement already satisfied: sentry-sdk==1.5.12 in /opt/homebrew/anaconda3/lib/python3.11/site-packages (from shioaji) (1.5.12)\n",
      "Requirement already satisfied: typing-extensions in /opt/homebrew/anaconda3/lib/python3.11/site-packages (from shioaji) (4.7.1)\n",
      "Requirement already satisfied: xxhash in /opt/homebrew/anaconda3/lib/python3.11/site-packages (from shioaji) (2.0.2)\n",
      "Requirement already satisfied: loguru==0.6.0 in /opt/homebrew/anaconda3/lib/python3.11/site-packages (from shioaji) (0.6.0)\n",
      "Requirement already satisfied: filelock==3.4.1 in /opt/homebrew/anaconda3/lib/python3.11/site-packages (from shioaji) (3.4.1)\n",
      "Requirement already satisfied: orjson in /opt/homebrew/anaconda3/lib/python3.11/site-packages (from pysolace==0.9.40->shioaji) (3.9.15)\n",
      "Requirement already satisfied: msgpack in /opt/homebrew/anaconda3/lib/python3.11/site-packages (from pysolace==0.9.40->shioaji) (1.0.3)\n",
      "Requirement already satisfied: urllib3>=1.10.0 in /opt/homebrew/anaconda3/lib/python3.11/site-packages (from sentry-sdk==1.5.12->shioaji) (1.26.16)\n",
      "Requirement already satisfied: certifi in /opt/homebrew/anaconda3/lib/python3.11/site-packages (from sentry-sdk==1.5.12->shioaji) (2023.7.22)\n",
      "Requirement already satisfied: cffi>=1.4.1 in /opt/homebrew/anaconda3/lib/python3.11/site-packages (from pynacl>=1.3.0->shioaji) (1.15.1)\n",
      "Requirement already satisfied: zipp>=0.5 in /opt/homebrew/anaconda3/lib/python3.11/site-packages (from importlib-metadata->shioaji) (3.11.0)\n",
      "Requirement already satisfied: annotated-types>=0.4.0 in /opt/homebrew/anaconda3/lib/python3.11/site-packages (from pydantic->shioaji) (0.6.0)\n",
      "Requirement already satisfied: pydantic-core==2.16.3 in /opt/homebrew/anaconda3/lib/python3.11/site-packages (from pydantic->shioaji) (2.16.3)\n",
      "Requirement already satisfied: charset-normalizer<4,>=2 in /opt/homebrew/anaconda3/lib/python3.11/site-packages (from requests->shioaji) (2.0.4)\n",
      "Requirement already satisfied: idna<4,>=2.5 in /opt/homebrew/anaconda3/lib/python3.11/site-packages (from requests->shioaji) (3.4)\n",
      "Requirement already satisfied: pycparser in /opt/homebrew/anaconda3/lib/python3.11/site-packages (from cffi>=1.4.1->pynacl>=1.3.0->shioaji) (2.21)\n",
      "Response Code: 0 | Event Code: 0 | Info: host '203.66.91.161:80', hostname '203.66.91.161:80' IP 203.66.91.161:80 (host 1 of 1) (host connection attempt 1 of 1) (total connection attempt 1 of 1) | Event: Session up\n"
     ]
    },
    {
     "ename": "AttributeError",
     "evalue": "module 'datetime' has no attribute 'today'",
     "output_type": "error",
     "traceback": [
      "\u001b[0;31m---------------------------------------------------------------------------\u001b[0m",
      "\u001b[0;31mAttributeError\u001b[0m                            Traceback (most recent call last)",
      "Cell \u001b[0;32mIn[22], line 16\u001b[0m\n\u001b[1;32m     13\u001b[0m \u001b[38;5;66;03m#登入你的key\u001b[39;00m\n\u001b[1;32m     14\u001b[0m accounts \u001b[38;5;241m=\u001b[39m api\u001b[38;5;241m.\u001b[39mlogin(\u001b[38;5;124m\"\u001b[39m\u001b[38;5;124mDP6ayTE7r7zsyWfad4wfu5ZMDdQ4NA6wk1vPESXVihyG\u001b[39m\u001b[38;5;124m\"\u001b[39m,\u001b[38;5;124m\"\u001b[39m\u001b[38;5;124m65bqwy975DsaDHamDxje8M3yUyqKCEuNRA9szAkrt996\u001b[39m\u001b[38;5;124m\"\u001b[39m)\n\u001b[0;32m---> 16\u001b[0m \u001b[38;5;28mprint\u001b[39m(\u001b[38;5;124m\"\u001b[39m\u001b[38;5;124mdate now\u001b[39m\u001b[38;5;124m\"\u001b[39m,datetime\u001b[38;5;241m.\u001b[39mtoday())\n",
      "\u001b[0;31mAttributeError\u001b[0m: module 'datetime' has no attribute 'today'"
     ]
    }
   ],
   "source": [
    "!pip install shioaji\n",
    "import numpy as np\n",
    "import pandas as pd\n",
    "import requests\n",
    "import shioaji as sj\n",
    "import datetime\n",
    "import matplotlib.pyplot as plt\n",
    "import matplotlib.animation as animation\n",
    "\n",
    "# 建立API物件，simulation=True是代表測試帳號\n",
    "api = sj.Shioaji(simulation=True)\n",
    "\n",
    "#登入你的key\n",
    "accounts = api.login(\"DP6ayTE7r7zsyWfad4wfu5ZMDdQ4NA6wk1vPESXVihyG\",\"65bqwy975DsaDHamDxje8M3yUyqKCEuNRA9szAkrt996\")\n",
    "\n"
   ]
  },
  {
   "cell_type": "code",
   "execution_count": 28,
   "id": "9bee460f",
   "metadata": {},
   "outputs": [
    {
     "name": "stdout",
     "output_type": "stream",
     "text": [
      "今天的日期: 2024-03-31\n",
      "180天前的日期: 2023-10-03\n"
     ]
    }
   ],
   "source": [
    "from datetime import date, timedelta\n",
    "today = date.today()\n",
    "delta = timedelta(days=180)\n",
    "date_180 = today - delta\n",
    "\n",
    "print(\"今天的日期:\", today)\n",
    "print(\"180天前的日期:\", date_180)\n"
   ]
  },
  {
   "cell_type": "code",
   "execution_count": 33,
   "id": "4892adcf",
   "metadata": {},
   "outputs": [
    {
     "name": "stdout",
     "output_type": "stream",
     "text": [
      "(275.5, 278.4)\n",
      "              5MA    10MA     20MA  20MA/60MA   5MA_diff  10MA_diff\n",
      "ts                                                                 \n",
      "2023-10-03    NaN     NaN      NaN        NaN        NaN        NaN\n",
      "2023-10-04    NaN     NaN      NaN        NaN        NaN        NaN\n",
      "2023-10-05    NaN     NaN      NaN        NaN        NaN        NaN\n",
      "2023-10-06    NaN     NaN      NaN        NaN        NaN        NaN\n",
      "2023-10-11  248.2     NaN      NaN        NaN  14.413793        NaN\n",
      "...           ...     ...      ...        ...        ...        ...\n",
      "2024-03-25  254.6  253.40  246.925        NaN  12.206897  12.620690\n",
      "2024-03-26  254.0  253.35  247.575        NaN  12.413793  12.637931\n",
      "2024-03-27  255.7  254.05  248.825        NaN  11.827586  12.396552\n",
      "2024-03-28  260.8  257.70  251.225        NaN  10.068966  11.137931\n",
      "2024-03-29  268.0  261.30  254.050        NaN   7.586207   9.896552\n",
      "\n",
      "[118 rows x 6 columns]\n"
     ]
    }
   ],
   "source": [
    "buy_price=int(290)\n",
    "stock_code=str(2382)\n",
    "def calculate_stop_loss(buy_price):\n",
    "    stop_loss_five_percent = buy_price*0.95\n",
    "    stop_loss_four_percent = buy_price*0.96\n",
    "    return stop_loss_five_percent, stop_loss_four_percent  # 設定停損價格為買進價格的90%\n",
    "\n",
    "\n",
    "def calculate_moving_averages(stock_code, window=60, buy_price=None):\n",
    "\n",
    "    # 取得歷史股價資料\n",
    "    # k棒的api使用方式\n",
    "    kbars = api.kbars(\n",
    "        contract=api.Contracts.Stocks[stock_code], \n",
    "        start=str(date_180), \n",
    "        end=str(today), \n",
    "    )\n",
    "    df = pd.DataFrame({**kbars})\n",
    "    df.ts = pd.to_datetime(df.ts)\n",
    "    df.set_index('ts',inplace=True)\n",
    "\n",
    "    # 日k13:30的K棒\n",
    "    df = df.resample('D').last().dropna()\n",
    "\n",
    "\n",
    "    # 計算移動平均線\n",
    "    df['5MA'] = df['Close'].rolling(window=5).mean()\n",
    "    df['10MA'] = df['Close'].rolling(window=10).mean()\n",
    "    df['20MA'] = df['Close'].rolling(window=20).mean()\n",
    "    df['60MA'] = df['Close'].rolling(window=60).mean()\n",
    "    df['20MA/60MA'] = df['20MA'] / df['60MA'].rolling(window=window).mean()\n",
    "    # 計算價格差距百分比\n",
    "    if buy_price is not None:\n",
    "        df['5MA_diff'] = (buy_price - df['5MA']) / buy_price * 100\n",
    "        df['10MA_diff'] = (buy_price - df['10MA']) / buy_price * 100\n",
    "        df['20MA_diff'] = (buy_price - df['20MA']) / buy_price * 100\n",
    "        df['60MA_diff'] = (buy_price - df['60MA']) / buy_price * 100\n",
    "        \n",
    "    return df[['5MA', '10MA', '20MA', '20MA/60MA','5MA_diff','10MA_diff']]\n",
    "\n",
    "print(calculate_stop_loss(buy_price))\n",
    "print(calculate_moving_averages(stock_code, window=60, buy_price=290))"
   ]
  },
  {
   "cell_type": "code",
   "execution_count": null,
   "id": "46fbdf39",
   "metadata": {},
   "outputs": [],
   "source": []
  }
 ],
 "metadata": {
  "kernelspec": {
   "display_name": "Python 3 (ipykernel)",
   "language": "python",
   "name": "python3"
  },
  "language_info": {
   "codemirror_mode": {
    "name": "ipython",
    "version": 3
   },
   "file_extension": ".py",
   "mimetype": "text/x-python",
   "name": "python",
   "nbconvert_exporter": "python",
   "pygments_lexer": "ipython3",
   "version": "3.11.4"
  }
 },
 "nbformat": 4,
 "nbformat_minor": 5
}
